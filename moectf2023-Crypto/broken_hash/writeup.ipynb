{
 "cells": [
  {
   "cell_type": "code",
   "execution_count": 8,
   "metadata": {},
   "outputs": [],
   "source": [
    "def F(x: int, y: int, z: int) -> int:\n",
    "    return ((x & ~y) ^ (y & ~z) ^ (z & ~x)) ^ (\n",
    "        ((x + y) * (y + z) + (x + z)) & 0xFFFF_FFFF_FFFF_FFFF_FFFF_FFFF_FFFF_FFFF\n",
    "    )\n",
    "\n",
    "\n",
    "def _block_hash(a: int, b: int, c: int, d: int) -> int:\n",
    "    x, y, z, w = F(a, b, c), F(b, c, d), F(c, d, a), F(d, a, b)\n",
    "    return (a ^ b ^ c ^ d ^ x ^ y ^ z ^ w) ^ 0xFFFF_FFFF_FFFF_FFFF_FFFF_FFFF_FFFF_FFFF\n",
    "\n",
    "\n",
    "def _hash(blocks: list[int]) -> int:\n",
    "    length = len(blocks)\n",
    "    if length % 4 != 0:\n",
    "        padding = 4 - length % 4\n",
    "        blocks += [0] * padding\n",
    "        length += padding\n",
    "    if length == 4:\n",
    "        return _block_hash(*blocks)\n",
    "    else:\n",
    "        block_size = length // 4\n",
    "        h1 = _hash(blocks[:block_size])\n",
    "        h2 = _hash(blocks[block_size : block_size * 2])\n",
    "        h3 = _hash(blocks[block_size * 2 : block_size * 3])\n",
    "        h4 = _hash(blocks[block_size * 3 :])\n",
    "        return _block_hash(h1, h2, h3, h4)\n",
    "\n",
    "\n",
    "def bytes2blocks(data: bytes, block_size=16) -> list[int]:\n",
    "    if len(data) % block_size != 0:\n",
    "        data += b\"\\x00\" * (block_size - len(data) % block_size)\n",
    "    return [\n",
    "        int.from_bytes(data[i : i + block_size], \"little\")\n",
    "        for i in range(0, len(data), block_size)\n",
    "    ]\n",
    "\n",
    "\n",
    "def hash(*data: list[bytes]) -> int:\n",
    "    return _hash(bytes2blocks(b\"\".join(data)))"
   ]
  },
  {
   "cell_type": "code",
   "execution_count": 18,
   "metadata": {},
   "outputs": [
    {
     "name": "stdout",
     "output_type": "stream",
     "text": [
      "b'1234' 340261516600152070536831223370151361527\n",
      "b'1243' 233238878006135035263925232372580928759\n",
      "b'1324' 329646269423307513812120041455026698231\n",
      "b'1342' 233238878006135035263925232372580928759\n",
      "b'1423' 329646269423307513812120041455026698231\n",
      "b'1432' 340261516600152070536831223370151361527\n",
      "b'2134' 233238878006135035263925232372580928759\n",
      "b'2143' 340261516600152070536831223370151361527\n",
      "b'2314' 329646269423307513812120041455026698231\n",
      "b'2341' 340261516600152070536831223370151361527\n",
      "b'2413' 329646269423307513812120041455026698231\n",
      "b'2431' 233238878006135035263925232372580928759\n",
      "b'3124' 233238878006135035263925232372580928759\n",
      "b'3142' 329646269423307513812120041455026698231\n",
      "b'3214' 340261516600152070536831223370151361527\n",
      "b'3241' 329646269423307513812120041455026698231\n",
      "b'3412' 340261516600152070536831223370151361527\n",
      "b'3421' 233238878006135035263925232372580928759\n",
      "b'4123' 340261516600152070536831223370151361527\n",
      "b'4132' 329646269423307513812120041455026698231\n",
      "b'4213' 233238878006135035263925232372580928759\n",
      "b'4231' 329646269423307513812120041455026698231\n",
      "b'4312' 233238878006135035263925232372580928759\n",
      "b'4321' 340261516600152070536831223370151361527\n"
     ]
    }
   ],
   "source": [
    "from itertools import permutations\n",
    "for i in permutations([b\"1\",b\"2\",b\"3\",b\"4\"]):\n",
    "    print(b\"\".join(i),hash(*(x*16 for x in i)))"
   ]
  },
  {
   "cell_type": "markdown",
   "metadata": {},
   "source": [
    "观察易知，存在部分交换，可以使hash不变"
   ]
  },
  {
   "cell_type": "markdown",
   "metadata": {},
   "source": []
  },
  {
   "cell_type": "code",
   "execution_count": null,
   "metadata": {},
   "outputs": [],
   "source": [
    "from string import ascii_letters\n",
    "from hashlib import md5\n",
    "from itertools import product\n",
    "target = \"435c285c011ac2c93a02cef74edb6424\"\n",
    "salt = \"sHAv\"\n",
    "for x in product(ascii_letters,repeat=4):\n",
    "    s = \"\".join(x)+salt\n",
    "    h = md5(s.encode()).hexdigest()\n",
    "    if h == target:\n",
    "        print(s)\n",
    "        break\n"
   ]
  },
  {
   "cell_type": "code",
   "execution_count": null,
   "metadata": {},
   "outputs": [],
   "source": [
    "from base64 import b64decode,b64encode\n",
    "data = b64decode(\"RoZqav2gsy4OrPb9w0dd80XAsmQrbq0UGSvg2H9TYeG9PoepDdhJSCDCXdCc5wotHi6Ua3dN/4rQQ6L6RZpVBDKimKEMnccmz2R6h/6YYjGb7yURhO2bvGr9+JeUjZ/x/9o3IC+gvlJ4TnOGXPi6MKdhr4yZ7OC8UT6Ht9IKZhEzOmw6u9FXr95pnINhdVaqYspJzI21NM7JctkOWrdflIqJG1HC3qxpQ9Xnqn3nfiQmKx4AKrF10F5VhMDPy/ClubMSZVO2ylQ8w+pX2KN0ze2rOrlo3Ogt9+DgAxJokLaSSkwfjylRzVvjSN/4Tvj2GFCkPpFb33QJhF42OrnUpw==\")\n",
    "payload = b\"\"\n",
    "for x in range(4):\n",
    "    a = data[64*x:64*x+64]\n",
    "    for y in range(3,-1,-1):\n",
    "        b = a[16*y:16*y+16]\n",
    "        payload += b\n",
    "b64encode(payload)"
   ]
  }
 ],
 "metadata": {
  "kernelspec": {
   "display_name": "venv",
   "language": "python",
   "name": "python3"
  },
  "language_info": {
   "codemirror_mode": {
    "name": "ipython",
    "version": 3
   },
   "file_extension": ".py",
   "mimetype": "text/x-python",
   "name": "python",
   "nbconvert_exporter": "python",
   "pygments_lexer": "ipython3",
   "version": "3.11.4"
  },
  "orig_nbformat": 4
 },
 "nbformat": 4,
 "nbformat_minor": 2
}
