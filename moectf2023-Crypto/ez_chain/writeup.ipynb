{
 "cells": [
  {
   "cell_type": "code",
   "execution_count": 1,
   "metadata": {},
   "outputs": [],
   "source": [
    "from Crypto.Util.number import *"
   ]
  },
  {
   "cell_type": "code",
   "execution_count": 2,
   "metadata": {},
   "outputs": [],
   "source": [
    "base = bytes_to_long(b\"koito\")\n",
    "\n",
    "def blockize(long):\n",
    "    out = []\n",
    "    while long>0:\n",
    "        out.append(long % base)\n",
    "        long //= base\n",
    "    return list(reversed(out))\n",
    "\n",
    "def deblockize(blocks):\n",
    "    out = 0\n",
    "    for block in blocks:\n",
    "        out *= base\n",
    "        out += block\n",
    "    return out\n"
   ]
  },
  {
   "cell_type": "code",
   "execution_count": 3,
   "metadata": {},
   "outputs": [],
   "source": [
    "blocks = [8490961288, 122685644196, 349851982069, 319462619019, 74697733110, 43107579733, 465430019828, 178715374673, 425695308534, 164022852989, 435966065649, 222907886694, 420391941825, 173833246025, 329708930734]"
   ]
  },
  {
   "cell_type": "code",
   "execution_count": 4,
   "metadata": {},
   "outputs": [],
   "source": [
    "def encrypt_block_cbc(blocks, iv, key):\n",
    "    encrypted = [iv]\n",
    "    for i in range(len(blocks)):\n",
    "        encrypted.append(blocks[i] ^ encrypted[i] ^ key)\n",
    "    return encrypted[1:]\n",
    "\n",
    "def decrypt_block_cbc(blocks, iv, key):\n",
    "    encrypted = [iv,*blocks]\n",
    "    decrypted = []\n",
    "    for i in range(len(blocks)):\n",
    "        decrypted.append(encrypted[i] ^ encrypted[i+1] ^ key)\n",
    "    return decrypted"
   ]
  },
  {
   "cell_type": "code",
   "execution_count": 5,
   "metadata": {},
   "outputs": [],
   "source": [
    "iv = 3735927943\n",
    "key = blockize(bytes_to_long(b\"moectf{\" + b\"A\"*64 + b\"}\"))[0] ^ iv ^ blocks[0]"
   ]
  },
  {
   "cell_type": "code",
   "execution_count": 6,
   "metadata": {},
   "outputs": [
    {
     "data": {
      "text/plain": [
       "b'moectf{thE_c6c_Is_not_so_hard_9ifxi9i!JGofMJ36D9cPMxroif6!M6oSMuliPPcA3}'"
      ]
     },
     "execution_count": 6,
     "metadata": {},
     "output_type": "execute_result"
    }
   ],
   "source": [
    "long_to_bytes(deblockize(decrypt_block_cbc(blocks, iv, key)))"
   ]
  }
 ],
 "metadata": {
  "kernelspec": {
   "display_name": "venv",
   "language": "python",
   "name": "python3"
  },
  "language_info": {
   "codemirror_mode": {
    "name": "ipython",
    "version": 3
   },
   "file_extension": ".py",
   "mimetype": "text/x-python",
   "name": "python",
   "nbconvert_exporter": "python",
   "pygments_lexer": "ipython3",
   "version": "3.11.4"
  },
  "orig_nbformat": 4
 },
 "nbformat": 4,
 "nbformat_minor": 2
}
