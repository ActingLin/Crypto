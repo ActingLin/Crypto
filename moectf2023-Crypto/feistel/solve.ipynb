{
 "cells": [
  {
   "cell_type": "code",
   "execution_count": 91,
   "metadata": {},
   "outputs": [
    {
     "name": "stdout",
     "output_type": "stream",
     "text": [
      "b'moectf{M@g1cA1_Encr1tion!!!}\\x04\\x04\\x04\\x04\\xb4D\\xc8bv\\xd6\"\\x9dA\\xc3\\xf7\\xf7\\xdd\\xedO\\xe9'\n"
     ]
    }
   ],
   "source": [
    "from Crypto.Util.number import *\n",
    "\n",
    "round = 2\n",
    "\n",
    "\n",
    "def f(m, key):\n",
    "    m = m ^ (m >> 4)\n",
    "    m = m ^ (m << 5)\n",
    "    m = m ^ (m >> 8)\n",
    "    m ^= key\n",
    "    m = (m * 1145 + 14) & 0xffffffffffffffff\n",
    "    m = (m * 1919 + 810) & 0xffffffffffffffff\n",
    "    m = (m * key) & 0xffffffffffffffff\n",
    "    return m\n",
    "\n",
    "\n",
    "def enc(m, key, round):\n",
    "    key = bytes_to_long(key)\n",
    "    left = bytes_to_long(m[:8])\n",
    "    right = bytes_to_long(m[8:])\n",
    "    for i in range(round):\n",
    "        left, right = right, f(right, key) ^ left\n",
    "    left, right = right, left\n",
    "    return long_to_bytes(left).rjust(8, b\"\\x00\") + long_to_bytes(right).rjust(8, b\"\\x00\")\n",
    "\n",
    "\n",
    "def padding(m):\n",
    "    mlen = len(m)\n",
    "    pad = 16 - mlen % 16\n",
    "    return m + pad * bytes([pad])\n",
    "\n",
    "\n",
    "def ecb_enc(m, key):\n",
    "    m = padding(m)\n",
    "    mlen = len(m)\n",
    "    c = b\"\"\n",
    "    for i in reversed(range(mlen // 16)):  # reversed to decrypt\n",
    "        c = enc(m[i * 16 : i * 16 + 16], key, round) + c  # reversed to correct block order\n",
    "    return c\n",
    "\n",
    "\n",
    "cipher = b\"\\x0b\\xa7\\xc6J\\xf6\\x80T\\xc6\\xfbq\\xaa\\xd8\\xcc\\x95\\xad[\\x1e'W5\\xce\\x92Y\\xd3\\xa0\\x1fL\\xe8\\xe1\\\"^\\xad\"\n",
    "key = b\"wulidego\"\n",
    "print(ecb_enc(cipher, key))"
   ]
  }
 ],
 "metadata": {
  "kernelspec": {
   "display_name": "venv",
   "language": "python",
   "name": "python3"
  },
  "language_info": {
   "codemirror_mode": {
    "name": "ipython",
    "version": 3
   },
   "file_extension": ".py",
   "mimetype": "text/x-python",
   "name": "python",
   "nbconvert_exporter": "python",
   "pygments_lexer": "ipython3",
   "version": "3.11.4"
  },
  "orig_nbformat": 4
 },
 "nbformat": 4,
 "nbformat_minor": 2
}
