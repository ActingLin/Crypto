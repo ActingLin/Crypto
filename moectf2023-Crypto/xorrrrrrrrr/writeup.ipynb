{
 "cells": [
  {
   "cell_type": "markdown",
   "metadata": {},
   "source": [
    "首先得想个办法，加载那一堆数据，所以这里合理运用一下eval（"
   ]
  },
  {
   "cell_type": "code",
   "execution_count": 1,
   "metadata": {},
   "outputs": [],
   "source": [
    "data = eval(\"[\"+\",\".join(open(\"result.log\").readlines())+\"]\")\n",
    "for x in data:\n",
    "    assert len(x) == 72"
   ]
  },
  {
   "cell_type": "markdown",
   "metadata": {},
   "source": [
    "## 解法1：直接爆破\n",
    "因为已知部分明文（开头的moectf），所以先对前面的部分xor"
   ]
  },
  {
   "cell_type": "code",
   "execution_count": 4,
   "metadata": {},
   "outputs": [
    {
     "name": "stdout",
     "output_type": "stream",
     "text": [
      "b'mers wh'\n",
      "b'ractica'\n",
      "b'flow vu'\n",
      "b'citing '\n",
      "b'are com'\n",
      "b'rs. You'\n",
      "b'ar hard'\n",
      "b'hat pla'\n",
      "b'nd soft'\n",
      "b' correc'\n",
      "b'llocati'\n",
      "b'cessors'\n",
      "b'ss and '\n",
      "b'and eve'\n",
      "b'er prog'\n",
      "b' and pe'\n",
      "b'g journ'\n",
      "b'rrectne'\n",
      "b'o get b'\n",
      "b'will le'\n",
      "b'rrors c'\n",
      "b' how to'\n",
      "b'learn p'\n",
      "b'e, and '\n",
      "b'g of th'\n",
      "b'our own'\n",
      "b' averag'\n",
      "b'is know'\n",
      "b'ms. Spe'\n",
      "b'and Int'\n",
      "b' yourse'\n",
      "b'pts do '\n",
      "b' Intern'\n",
      "b'ams. Sp'\n",
      "b'ndersta'\n",
      "b'ical er'\n",
      "b'll lear'\n",
      "b'rver. Y'\n",
      "b' during'\n",
      "b'arn how'\n",
      "b'falls o'\n",
      "b'ncepts '\n",
      "b'earning'\n",
      "b'or prog'\n",
      "b'systems'\n",
      "b'ver tim'\n",
      "b'ocedure'\n",
      "b'ilar ha'\n",
      "b's and h'\n",
      "b'You wil'\n",
      "b'ou will'\n",
      "b'ompiler'\n",
      "b'arn how'\n",
      "b'. You w'\n",
      "b' affect'\n",
      "b'ms. You'\n",
      "b'r progr'\n",
      "b'm simil'\n",
      "b'fer ove'\n",
      "b' gether'\n",
      "b'ng to l'\n",
      "b'und the'\n",
      "b's. This'\n",
      "b' progra'\n",
      "b'u dedic'\n",
      "b'ou will'\n",
      "b'verage '\n",
      "b'ether t'\n",
      "b'rning t'\n",
      "b'ies tha'\n",
      "b'un appl'\n",
      "b'lar fun'\n",
      "b'way tha'\n",
      "b'y error'\n",
      "b' and so'\n",
      "b'd the a'\n",
      "b'program'\n",
      "b'en your'\n",
      "b'ether t'\n",
      "b'ound th'\n",
      "b'concept'\n",
      "b' confou'\n",
      "b'ments p'\n",
      "b' during'\n",
      "b'he way '\n",
      "b'nderlyi'\n",
      "b'nternet'\n",
      "b'omputer'\n",
      "b'nix she'\n",
      "b'learn h'\n",
      "b'learn h'\n",
      "b' and ev'\n",
      "b'piler i'\n",
      "b'\\xe2\\x80\\x9d enl'\n",
      "b'n for p'\n",
      "b'owledge'\n",
      "b'k to ge'\n",
      "b'e your '\n",
      "b' You wi'\n",
      "b' and me'\n"
     ]
    }
   ],
   "source": [
    "strxor = lambda s1,s2: bytes([x^y for x,y in zip(s1,s2)])\n",
    "partials = []\n",
    "for x in data:\n",
    "    print((partial := strxor(b\"moectf{\",x)))\n",
    "    partials.append(partial)"
   ]
  },
  {
   "cell_type": "code",
   "execution_count": 7,
   "metadata": {},
   "outputs": [
    {
     "name": "stdout",
     "output_type": "stream",
     "text": [
      "5 55 b'rs. You' b'ms. You'\n",
      "12 48 b'ss and ' b's and h'\n",
      "13 91 b'and eve' b' and ev'\n",
      "14 43 b'er prog' b'or prog'\n",
      "22 89 b'learn p' b'learn h'\n",
      "28 33 b'ms. Spe' b'ams. Sp'\n",
      "38 83 b' during' b' during'\n",
      "39 52 b'arn how' b'arn how'\n",
      "43 56 b'or prog' b'r progr'\n",
      "48 74 b's and h' b' and so'\n",
      "49 50 b'You wil' b'ou will'\n",
      "50 65 b'ou will' b'ou will'\n",
      "53 98 b'. You w' b' You wi'\n",
      "56 63 b'r progr' b' progra'\n",
      "61 79 b'und the' b'ound th'\n",
      "63 76 b' progra' b'program'\n",
      "67 78 b'ether t' b'ether t'\n",
      "89 90 b'learn h' b'learn h'\n"
     ]
    }
   ],
   "source": [
    "for x in range(100):\n",
    "    central = partials[x][1:6]\n",
    "    for y in range(x+1,100):\n",
    "        if central in partials[y]:\n",
    "            print(x,y,partials[x],partials[y])\n",
    "            break"
   ]
  },
  {
   "cell_type": "markdown",
   "metadata": {},
   "source": [
    "观察得到有许多组的范围似乎很接近，选取其一尝试解密，此处选取28和33"
   ]
  },
  {
   "cell_type": "code",
   "execution_count": 8,
   "metadata": {},
   "outputs": [
    {
     "name": "stdout",
     "output_type": "stream",
     "text": [
      "b'moectf{W0W_y0U_HaVe_mastered_tHe_x0r_0Peart0r!_0iYlJf!M3rux9G9Vf!JoxiMl}'\n"
     ]
    }
   ],
   "source": [
    "c1 = data[33]\n",
    "c2 = data[28]\n",
    "flag = [ord(\"m\")] + [0]*71\n",
    "for x in range(1,72):\n",
    "    flag[x] = flag[x-1] ^ c1[x] ^ c2[x-1]\n",
    "print(bytes(flag))"
   ]
  },
  {
   "cell_type": "code",
   "execution_count": null,
   "metadata": {},
   "outputs": [],
   "source": []
  }
 ],
 "metadata": {
  "kernelspec": {
   "display_name": "venv",
   "language": "python",
   "name": "python3"
  },
  "language_info": {
   "codemirror_mode": {
    "name": "ipython",
    "version": 3
   },
   "file_extension": ".py",
   "mimetype": "text/x-python",
   "name": "python",
   "nbconvert_exporter": "python",
   "pygments_lexer": "ipython3",
   "version": "3.11.4"
  },
  "orig_nbformat": 4
 },
 "nbformat": 4,
 "nbformat_minor": 2
}
